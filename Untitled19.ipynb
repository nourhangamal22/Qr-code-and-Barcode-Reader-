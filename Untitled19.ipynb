{
  "nbformat": 4,
  "nbformat_minor": 0,
  "metadata": {
    "colab": {
      "provenance": [],
      "authorship_tag": "ABX9TyNL8qBCMESzSCpLu+lpI8OV",
      "include_colab_link": true
    },
    "kernelspec": {
      "name": "python3",
      "display_name": "Python 3"
    },
    "language_info": {
      "name": "python"
    }
  },
  "cells": [
    {
      "cell_type": "markdown",
      "metadata": {
        "id": "view-in-github",
        "colab_type": "text"
      },
      "source": [
        "<a href=\"https://colab.research.google.com/github/nourhangamal22/Qr-code-and-Barcode-Reader-/blob/main/Untitled19.ipynb\" target=\"_parent\"><img src=\"https://colab.research.google.com/assets/colab-badge.svg\" alt=\"Open In Colab\"/></a>"
      ]
    },
    {
      "cell_type": "code",
      "execution_count": null,
      "metadata": {
        "id": "fVeouYxE973R"
      },
      "outputs": [],
      "source": [
        "\n",
        "from pyzbar.pyzbar import decode\n",
        "import cv2\n",
        "import numpy as np\n",
        "\n",
        "cap = cv2.VideoCapture(0)\n",
        "\n",
        "\n",
        "def get_qr_data(input_frame):\n",
        "    try:\n",
        "        return decode(input_frame)\n",
        "    except:\n",
        "        return []\n",
        "\n",
        "\n",
        "def draw_polygon(f_in, qro):\n",
        "    if len(qro) == 0:\n",
        "        return f_in\n",
        "    else:\n",
        "        for obj in qro:\n",
        "            text = obj.data.decode('utf-8')\n",
        "            pts = np.array([obj.polygon], np.int32)\n",
        "            # print(\"Before Reshape::\", pts.shape)\n",
        "            pts = pts.reshape((4, 1, 2))\n",
        "            # print(\"After Reshape::\",pts.shape)\n",
        "            cv2.polylines(f_in, [pts], True, (255, 100, 5), 2)\n",
        "            cv2.putText(f_in, text, (50, 50), cv2.FONT_HERSHEY_PLAIN,1.5,(255,100,5),2)\n",
        "        return f_in\n",
        "\n",
        "\n",
        "while True:\n",
        "    _, frame = cap.read()\n",
        "    qr_obj = get_qr_data(frame)\n",
        "    frame = draw_polygon(frame, qr_obj)\n",
        "    cv2.imshow(\"DD\", frame)\n",
        "    # cv2.imshow(\"DD2\", frame2)\n",
        "    if cv2.waitKey(1) & 0xFF == ord('q'):\n",
        "        break\n",
        "\n",
        "cap.release()\n",
        "cv2.destroyAllWindows("
      ]
    }
  ]
}